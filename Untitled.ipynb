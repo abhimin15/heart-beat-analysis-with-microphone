{
 "cells": [
  {
   "cell_type": "code",
   "execution_count": 2,
   "metadata": {},
   "outputs": [],
   "source": []
  },
  {
   "cell_type": "code",
   "execution_count": 3,
   "metadata": {},
   "outputs": [
    {
     "name": "stderr",
     "output_type": "stream",
     "text": [
      "C:\\Anaconda3\\lib\\site-packages\\h5py\\__init__.py:36: FutureWarning: Conversion of the second argument of issubdtype from `float` to `np.floating` is deprecated. In future, it will be treated as `np.float64 == np.dtype(float).type`.\n",
      "  from ._conv import register_converters as _register_converters\n",
      "Using TensorFlow backend.\n"
     ]
    }
   ],
   "source": [
    "from glob import glob\n",
    "\n",
    "file1 = glob('set_b\\*.wav')\n",
    "n1 = len(file1)\n",
    "audio,sfreq = lb.load(file1[0])\n",
    "indices = np.arange(0,len(audio))\n",
    "time = indices/sfreq\n",
    "\n",
    "plt.plot(time,audio)\n",
    "plt.show()"
   ]
  },
  {
   "cell_type": "code",
   "execution_count": 15,
   "metadata": {},
   "outputs": [
    {
     "name": "stdout",
     "output_type": "stream",
     "text": [
      "(656,)\n"
     ]
    }
   ],
   "source": [
    "audios = []\n",
    "frequency = []\n",
    "for i in range(n1):\n",
    "    audio,sfreq = lb.load(file1[i])\n",
    "    audios.append(audio)\n",
    "    frequency.append(sfreq)\n",
    "audios = np.array(audios)\n",
    "frequency = np.array(frequency)\n",
    "print(audios.shape)"
   ]
  },
  {
   "cell_type": "code",
   "execution_count": 7,
   "metadata": {},
   "outputs": [
    {
     "name": "stdout",
     "output_type": "stream",
     "text": [
      "[0.00000000e+00 4.80576708e-04 9.61153415e-04 ... 1.05952747e+01\n",
      " 1.05957553e+01 1.05962358e+01]\n"
     ]
    }
   ],
   "source": [
    "indices = np.arange(0,len(audio))\n",
    "final_time = (len(audio)-1)/sfreq\n",
    "time = np.linspace(0,final_time,sfreq)"
   ]
  },
  {
   "cell_type": "code",
   "execution_count": 8,
   "metadata": {},
   "outputs": [
    {
     "name": "stdout",
     "output_type": "stream",
     "text": [
      "656\n"
     ]
    }
   ],
   "source": [
    "print(len(file1))"
   ]
  },
  {
   "cell_type": "code",
   "execution_count": 1,
   "metadata": {},
   "outputs": [],
   "source": [
    "from scipy.signal import decimate"
   ]
  },
  {
   "cell_type": "code",
   "execution_count": null,
   "metadata": {},
   "outputs": [],
   "source": []
  }
 ],
 "metadata": {
  "kernelspec": {
   "display_name": "Python 3",
   "language": "python",
   "name": "python3"
  },
  "language_info": {
   "codemirror_mode": {
    "name": "ipython",
    "version": 3
   },
   "file_extension": ".py",
   "mimetype": "text/x-python",
   "name": "python",
   "nbconvert_exporter": "python",
   "pygments_lexer": "ipython3",
   "version": "3.6.5"
  }
 },
 "nbformat": 4,
 "nbformat_minor": 2
}
