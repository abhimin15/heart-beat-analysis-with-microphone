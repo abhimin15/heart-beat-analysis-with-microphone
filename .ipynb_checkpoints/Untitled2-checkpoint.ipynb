{
 "cells": [
  {
   "cell_type": "code",
   "execution_count": 10,
   "metadata": {},
   "outputs": [
    {
     "name": "stdout",
     "output_type": "stream",
     "text": [
      "Following is a Topological Sort of the given graph\n",
      "5 4 2 3 1 0\n"
     ]
    }
   ],
   "source": [
    "#Topological Sorting\n",
    "from collections import defaultdict\n",
    "\n",
    "class Graph:\n",
    "    def __init__(self):\n",
    "        self.graph = defaultdict(list)\n",
    "        \n",
    "    def addEdge(self,u,v):\n",
    "        self.graph[u].append(v)\n",
    "        \n",
    "    def topologyfunc(self,u,visited,stack):\n",
    "        visited[u]=True\n",
    "        for i in self.graph[u]:\n",
    "            if visited[i]==False:\n",
    "                self.topologyfunc(i,visited,stack)\n",
    "            \n",
    "        stack.insert(0,u)\n",
    "        \n",
    "    def topologytraverse(self,vertices):\n",
    "        visited = [False]*vertices\n",
    "        stack = []\n",
    "        for i in range(vertices):\n",
    "            if visited[i]==False:\n",
    "                self.topologyfunc(i,visited,stack)\n",
    "            \n",
    "        print(*stack)\n",
    "        \n",
    "g = Graph() \n",
    "g.addEdge(5, 2); \n",
    "g.addEdge(5, 0); \n",
    "g.addEdge(4, 0); \n",
    "g.addEdge(4, 1); \n",
    "g.addEdge(2, 3); \n",
    "g.addEdge(3, 1); \n",
    "  \n",
    "print(\"Following is a Topological Sort of the given graph\")\n",
    "g.topologytraverse(6)"
   ]
  },
  {
   "cell_type": "code",
   "execution_count": 14,
   "metadata": {},
   "outputs": [
    {
     "name": "stdout",
     "output_type": "stream",
     "text": [
      "Length of shortest chain is:  7\n"
     ]
    }
   ],
   "source": [
    "#word-ladder-length-of-shortest-chain-to-reach-a-target-word\n",
    "\n",
    "def isadjacent(a,b):\n",
    "    count=0\n",
    "    l = len(a)\n",
    "    for i in range(l):\n",
    "        if a[i]!=b[i]:\n",
    "            count+=1\n",
    "        if count>1:\n",
    "            break\n",
    "    return True if count==1 else False\n",
    "\n",
    "class Qitem:\n",
    "    def __init__(self,word,length):\n",
    "        self.word = word\n",
    "        self.length = length\n",
    "        \n",
    "def shortestChainLen(start, target, D):\n",
    "    q=[]\n",
    "    item = Qitem(start,1)\n",
    "    q.append(item)\n",
    "    while len(q)>0:\n",
    "        temp = q.pop(0)\n",
    "        for it in D:\n",
    "            if isadjacent(temp.word,it):\n",
    "                item.word = it\n",
    "                item.length = temp.length+1\n",
    "                q.append(item)\n",
    "                \n",
    "                D.remove(it)\n",
    "                \n",
    "                if it==target:\n",
    "                    return temp.length\n",
    "\n",
    "D = [] \n",
    "D.append(\"poon\") \n",
    "D.append(\"plee\") \n",
    "D.append(\"same\") \n",
    "D.append(\"poie\") \n",
    "D.append(\"plie\") \n",
    "D.append(\"poin\") \n",
    "D.append(\"plea\") \n",
    "start = \"toon\"\n",
    "target = \"plea\"\n",
    "print(\"Length of shortest chain is: \",shortestChainLen(start, target, D))"
   ]
  },
  {
   "cell_type": "code",
   "execution_count": 23,
   "metadata": {},
   "outputs": [
    {
     "name": "stdout",
     "output_type": "stream",
     "text": [
      "[[1, 0, 0, 0, 0], [0, 0, 0, 1, 0], [0, 1, 0, 0, 0], [0, 0, 0, 0, 1], [0, 0, 1, 0, 0]]\n"
     ]
    }
   ],
   "source": [
    "#N queen problem\n",
    "\n",
    "global N\n",
    "N=5\n",
    "\n",
    "def issafe(board,row,col):\n",
    "    for i in range(col):\n",
    "        if board[row][i] ==1:\n",
    "            return False\n",
    "    \n",
    "    for i,j in zip(range(row,-1,-1),range(col,-1,-1)):\n",
    "        if board[i][j] ==1:\n",
    "            return False\n",
    "        \n",
    "    for i,j in zip(range(row,N),range(col,-1,-1)):\n",
    "        if board[i][j]==1:\n",
    "            return False\n",
    "    \n",
    "    return True\n",
    "\n",
    "def Solvequeen(board,col):\n",
    "    if col>=N:\n",
    "        return True\n",
    "    \n",
    "    for i in range(N):\n",
    "        if issafe(board,i,col)==True:\n",
    "            board[i][col]=1\n",
    "            \n",
    "            if Solvequeen(board,col+1)==True:\n",
    "                return True\n",
    "            \n",
    "            board[i][col]=0\n",
    "            \n",
    "    return False\n",
    "\n",
    "board = [[0 for i in range(N)]for j in range(N)]\n",
    "if Solvequeen(board,0)==False:\n",
    "    print('Solution cannotbe found')\n",
    "else:\n",
    "    print(board)\n",
    "        "
   ]
  },
  {
   "cell_type": "code",
   "execution_count": 15,
   "metadata": {},
   "outputs": [
    {
     "name": "stdout",
     "output_type": "stream",
     "text": [
      "[[1, 1, 0, 0], [0, 1, 0, 0], [0, 1, 0, 0], [0, 1, 1, 1]]\n"
     ]
    }
   ],
   "source": [
    "# Rat case problem\n",
    "global N\n",
    "N = 4\n",
    "\n",
    "def issafe(maze,row,col):\n",
    "    if maze[row][col]==1:\n",
    "        return True\n",
    "    else:\n",
    "        return False\n",
    "    \n",
    "def findpath(maze,sol,row,col):\n",
    "    if row==N-1 and col ==N-1:\n",
    "        sol[row][col]=1\n",
    "        return True\n",
    "    if issafe(maze,row,col)==True:\n",
    "        sol[row][col]=1\n",
    "        if findpath(maze,sol,row,col+1)==True:\n",
    "            return True\n",
    "        if findpath(maze,sol,row+1,col)==True:\n",
    "            return True\n",
    "        sol[row][col]=0\n",
    "        return False\n",
    "    return False\n",
    "        \n",
    "maze = [ [1, 1, 0, 0], [1, 1, 0, 1],[0, 1, 0, 0], [1, 1, 1, 1] ]\n",
    "sol = [[0 for i in range(N)]for j in range(N)]\n",
    "\n",
    "if findpath(maze,sol,0,0)==True:\n",
    "    print(sol)   \n",
    "else:\n",
    "    print('Cannot find a solution')"
   ]
  }
 ],
 "metadata": {
  "kernelspec": {
   "display_name": "Python 3",
   "language": "python",
   "name": "python3"
  },
  "language_info": {
   "codemirror_mode": {
    "name": "ipython",
    "version": 3
   },
   "file_extension": ".py",
   "mimetype": "text/x-python",
   "name": "python",
   "nbconvert_exporter": "python",
   "pygments_lexer": "ipython3",
   "version": "3.6.5"
  }
 },
 "nbformat": 4,
 "nbformat_minor": 2
}
