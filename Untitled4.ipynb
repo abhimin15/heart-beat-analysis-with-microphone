{
 "cells": [
  {
   "cell_type": "code",
   "execution_count": 1,
   "metadata": {},
   "outputs": [],
   "source": [
    "import spacy"
   ]
  },
  {
   "cell_type": "code",
   "execution_count": 2,
   "metadata": {},
   "outputs": [],
   "source": [
    "nlp = spacy.load('en')"
   ]
  },
  {
   "cell_type": "code",
   "execution_count": 3,
   "metadata": {},
   "outputs": [],
   "source": [
    "doc = nlp('cat')"
   ]
  },
  {
   "cell_type": "code",
   "execution_count": 6,
   "metadata": {},
   "outputs": [],
   "source": [
    "from collections import defaultdict\n",
    "list = ['dog','cow','pussy','feline','ship']\n",
    "a = defaultdict()\n",
    "for i in list:\n",
    "    a[i] = doc.similarity(nlp(i))"
   ]
  },
  {
   "cell_type": "code",
   "execution_count": 7,
   "metadata": {},
   "outputs": [
    {
     "data": {
      "text/plain": [
       "[('pussy', 0.6110675371762306),\n",
       " ('ship', 0.6117862231582922),\n",
       " ('feline', 0.633751501796716),\n",
       " ('cow', 0.6743596319232846),\n",
       " ('dog', 0.7344887830914172)]"
      ]
     },
     "execution_count": 7,
     "metadata": {},
     "output_type": "execute_result"
    }
   ],
   "source": [
    "result = sorted(a.items(),key = lambda x:x[1])\n",
    "result"
   ]
  },
  {
   "cell_type": "code",
   "execution_count": 8,
   "metadata": {},
   "outputs": [],
   "source": [
    "import nltk\n",
    "from nltk.corpus import wordnet"
   ]
  },
  {
   "cell_type": "code",
   "execution_count": 13,
   "metadata": {},
   "outputs": [
    {
     "name": "stdout",
     "output_type": "stream",
     "text": [
      "0.9629629629629629\n",
      "0.8571428571428571\n"
     ]
    }
   ],
   "source": [
    "w1 = wordnet.synset('cat.n.01')\n",
    "w2  = wordnet.synset('feline.n.01')\n",
    "w3 = wordnet.synset('dog.n.01')\n",
    "print(w1.wup_similarity(w2))\n",
    "print(w1.wup_similarity(w3))"
   ]
  },
  {
   "cell_type": "code",
   "execution_count": 18,
   "metadata": {},
   "outputs": [
    {
     "data": {
      "text/plain": [
       "[Synset('good.n.01'),\n",
       " Synset('good.n.02'),\n",
       " Synset('good.n.03'),\n",
       " Synset('commodity.n.01'),\n",
       " Synset('good.a.01'),\n",
       " Synset('full.s.06'),\n",
       " Synset('good.a.03'),\n",
       " Synset('estimable.s.02'),\n",
       " Synset('beneficial.s.01'),\n",
       " Synset('good.s.06'),\n",
       " Synset('good.s.07'),\n",
       " Synset('adept.s.01'),\n",
       " Synset('good.s.09'),\n",
       " Synset('dear.s.02'),\n",
       " Synset('dependable.s.04'),\n",
       " Synset('good.s.12'),\n",
       " Synset('good.s.13'),\n",
       " Synset('effective.s.04'),\n",
       " Synset('good.s.15'),\n",
       " Synset('good.s.16'),\n",
       " Synset('good.s.17'),\n",
       " Synset('good.s.18'),\n",
       " Synset('good.s.19'),\n",
       " Synset('good.s.20'),\n",
       " Synset('good.s.21'),\n",
       " Synset('well.r.01'),\n",
       " Synset('thoroughly.r.02')]"
      ]
     },
     "execution_count": 18,
     "metadata": {},
     "output_type": "execute_result"
    }
   ],
   "source": [
    "word = wordnet.synsets('good')\n",
    "word"
   ]
  },
  {
   "cell_type": "code",
   "execution_count": 21,
   "metadata": {},
   "outputs": [
    {
     "name": "stdout",
     "output_type": "stream",
     "text": [
      "1  good.n.01\n",
      "2  [Lemma('good.n.01.good')]\n",
      "3  ['for your own good', \"what's the good of worrying?\"]\n",
      "4  benefit\n"
     ]
    }
   ],
   "source": [
    "print('1 ', word[0].name())\n",
    "print('2 ',word[0].lemmas().name())\n",
    "print('3 ',word[0].examples())\n",
    "print('4 ',word[0].definition())"
   ]
  },
  {
   "cell_type": "code",
   "execution_count": 23,
   "metadata": {},
   "outputs": [],
   "source": [
    "snm = set()\n",
    "atm = set()\n",
    "for i in word:\n",
    "    for l in i.lemmas():\n",
    "        snm.add(l.name())\n",
    "        if l.antonyms():\n",
    "            atm.add(l.antonyms()[0].name())"
   ]
  },
  {
   "cell_type": "code",
   "execution_count": 24,
   "metadata": {},
   "outputs": [
    {
     "name": "stdout",
     "output_type": "stream",
     "text": [
      "{'sound', 'soundly', 'skilful', 'expert', 'goodness', 'salutary', 'unspoiled', 'in_effect', 'honest', 'undecomposed', 'upright', 'trade_good', 'dear', 'in_force', 'beneficial', 'effective', 'just', 'safe', 'estimable', 'good', 'full', 'ripe', 'unspoilt', 'practiced', 'commodity', 'serious', 'well', 'dependable', 'respectable', 'skillful', 'near', 'proficient', 'thoroughly', 'adept', 'right', 'secure', 'honorable'}\n",
      "{'badness', 'ill', 'evil', 'bad', 'evilness'}\n"
     ]
    }
   ],
   "source": [
    "print(snm)\n",
    "print(atm)"
   ]
  },
  {
   "cell_type": "code",
   "execution_count": null,
   "metadata": {},
   "outputs": [],
   "source": []
  }
 ],
 "metadata": {
  "kernelspec": {
   "display_name": "Python 3",
   "language": "python",
   "name": "python3"
  },
  "language_info": {
   "codemirror_mode": {
    "name": "ipython",
    "version": 3
   },
   "file_extension": ".py",
   "mimetype": "text/x-python",
   "name": "python",
   "nbconvert_exporter": "python",
   "pygments_lexer": "ipython3",
   "version": "3.6.5"
  }
 },
 "nbformat": 4,
 "nbformat_minor": 2
}
